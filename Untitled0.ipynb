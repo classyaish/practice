{
  "nbformat": 4,
  "nbformat_minor": 0,
  "metadata": {
    "colab": {
      "provenance": [],
      "authorship_tag": "ABX9TyMHeagxt581sQ+5ut1JZxUO",
      "include_colab_link": true
    },
    "kernelspec": {
      "name": "python3",
      "display_name": "Python 3"
    },
    "language_info": {
      "name": "python"
    }
  },
  "cells": [
    {
      "cell_type": "markdown",
      "metadata": {
        "id": "view-in-github",
        "colab_type": "text"
      },
      "source": [
        "<a href=\"https://colab.research.google.com/github/classyaish/practice/blob/main/Untitled0.ipynb\" target=\"_parent\"><img src=\"https://colab.research.google.com/assets/colab-badge.svg\" alt=\"Open In Colab\"/></a>"
      ]
    },
    {
      "cell_type": "code",
      "source": [
        "name = 'Aishah'"
      ],
      "metadata": {
        "id": "zPE3xiCK1DzX"
      },
      "execution_count": 4,
      "outputs": []
    },
    {
      "cell_type": "code",
      "source": [
        "print(name)"
      ],
      "metadata": {
        "colab": {
          "base_uri": "https://localhost:8080/"
        },
        "id": "T9iQ0QL-2CkA",
        "outputId": "343fb3c4-1476-4ece-e93c-6070761b46d8"
      },
      "execution_count": 5,
      "outputs": [
        {
          "output_type": "stream",
          "name": "stdout",
          "text": [
            "Aishah\n"
          ]
        }
      ]
    },
    {
      "cell_type": "code",
      "source": [
        "greeting = 'Good morning ' + name"
      ],
      "metadata": {
        "id": "XdnfuwxX2Gr4"
      },
      "execution_count": 6,
      "outputs": []
    },
    {
      "cell_type": "code",
      "source": [
        "print(greeting)"
      ],
      "metadata": {
        "colab": {
          "base_uri": "https://localhost:8080/"
        },
        "id": "cw-aqU3p2UTv",
        "outputId": "c436050c-dfb8-4694-9adf-02ade199a2a6"
      },
      "execution_count": 8,
      "outputs": [
        {
          "output_type": "stream",
          "name": "stdout",
          "text": [
            "Good morning Aishah\n"
          ]
        }
      ]
    },
    {
      "cell_type": "code",
      "source": [
        "food = input('What is your favourite food? ')"
      ],
      "metadata": {
        "colab": {
          "base_uri": "https://localhost:8080/"
        },
        "id": "RN0WPe5W2otk",
        "outputId": "8fdf876c-edf0-481f-a10a-fede4c518557"
      },
      "execution_count": 11,
      "outputs": [
        {
          "name": "stdout",
          "output_type": "stream",
          "text": [
            "What is your favourite food? Jollof rice and chicken\n"
          ]
        }
      ]
    },
    {
      "cell_type": "code",
      "source": [
        "print(name, 'likes', food)"
      ],
      "metadata": {
        "colab": {
          "base_uri": "https://localhost:8080/"
        },
        "id": "09KK17__3MaJ",
        "outputId": "b627cec3-6cd2-4fa0-e64a-4de0500ff035"
      },
      "execution_count": 12,
      "outputs": [
        {
          "output_type": "stream",
          "name": "stdout",
          "text": [
            "Aishah likes Jollof rice and chicken\n"
          ]
        }
      ]
    },
    {
      "cell_type": "code",
      "source": [
        "run = 'Run away!'"
      ],
      "metadata": {
        "id": "rFznhCg74nBN"
      },
      "execution_count": 14,
      "outputs": []
    },
    {
      "cell_type": "code",
      "source": [
        "print(run)"
      ],
      "metadata": {
        "colab": {
          "base_uri": "https://localhost:8080/"
        },
        "id": "tc6OBR1b5O3e",
        "outputId": "c064feeb-e626-476b-ffa8-7d9f93b59503"
      },
      "execution_count": 15,
      "outputs": [
        {
          "output_type": "stream",
          "name": "stdout",
          "text": [
            "Run away!\n"
          ]
        }
      ]
    },
    {
      "cell_type": "code",
      "source": [
        "print(run[0])"
      ],
      "metadata": {
        "colab": {
          "base_uri": "https://localhost:8080/"
        },
        "id": "tFXQpYe95Wi9",
        "outputId": "35252cfc-9a3e-49a3-b682-8c55d395b68e"
      },
      "execution_count": 17,
      "outputs": [
        {
          "output_type": "stream",
          "name": "stdout",
          "text": [
            "R\n"
          ]
        }
      ]
    },
    {
      "cell_type": "code",
      "source": [
        "name = 'Aisha'"
      ],
      "metadata": {
        "id": "5So4md_y5zPX"
      },
      "execution_count": 1,
      "outputs": []
    },
    {
      "cell_type": "code",
      "source": [
        "print(name[1])"
      ],
      "metadata": {
        "colab": {
          "base_uri": "https://localhost:8080/"
        },
        "id": "86YezTfQ6Fza",
        "outputId": "1081ab1e-be44-4d9d-fe6a-9e1957709e7a"
      },
      "execution_count": 2,
      "outputs": [
        {
          "output_type": "stream",
          "name": "stdout",
          "text": [
            "i\n"
          ]
        }
      ]
    },
    {
      "cell_type": "code",
      "source": [
        "another_name = 'bdurrahman'"
      ],
      "metadata": {
        "id": "llfLoTA16ZOu"
      },
      "execution_count": 3,
      "outputs": []
    },
    {
      "cell_type": "code",
      "source": [
        "print(another_name)"
      ],
      "metadata": {
        "colab": {
          "base_uri": "https://localhost:8080/"
        },
        "id": "Zb2v0Zil6pzI",
        "outputId": "215d006c-3bb8-4ca8-d2bc-bc0d620e07df"
      },
      "execution_count": 4,
      "outputs": [
        {
          "output_type": "stream",
          "name": "stdout",
          "text": [
            "bdurrahman\n"
          ]
        }
      ]
    },
    {
      "cell_type": "code",
      "source": [
        "another_name_1 = name[0] + another_name"
      ],
      "metadata": {
        "id": "QBTNv63p6wqn"
      },
      "execution_count": 7,
      "outputs": []
    },
    {
      "cell_type": "code",
      "source": [
        "print(another_name_1)"
      ],
      "metadata": {
        "colab": {
          "base_uri": "https://localhost:8080/"
        },
        "id": "oCjfkGoc7Gd8",
        "outputId": "47c8fc4d-d345-47f1-fa6c-b15a5d692cdf"
      },
      "execution_count": 8,
      "outputs": [
        {
          "output_type": "stream",
          "name": "stdout",
          "text": [
            "Abdurrahman\n"
          ]
        }
      ]
    }
  ]
}